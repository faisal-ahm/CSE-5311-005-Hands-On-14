{
 "cells": [
  {
   "cell_type": "markdown",
   "id": "c1d451ea",
   "metadata": {},
   "source": [
    "# Dijkstra's Algorithm"
   ]
  },
  {
   "cell_type": "code",
   "execution_count": 18,
   "id": "8c2b01b7",
   "metadata": {},
   "outputs": [],
   "source": [
    "import heapq\n",
    "\n",
    "def dijkstra(graph, start):\n",
    "    distances = {node: float('inf') for node in graph}\n",
    "    predecessors = {node: None for node in graph}\n",
    "    distances[start] = 0\n",
    "    priority_queue = [(0, start)]\n",
    "    while priority_queue:\n",
    "        current_distance, current_node = heapq.heappop(priority_queue)\n",
    "        if current_distance > distances[current_node]:\n",
    "            continue\n",
    "        for neighbor, weight in graph[current_node]:\n",
    "            distance = current_distance + weight\n",
    "            if distance < distances[neighbor]:\n",
    "                distances[neighbor] = distance\n",
    "                predecessors[neighbor] = current_node\n",
    "                heapq.heappush(priority_queue, (distance, neighbor))\n",
    "    \n",
    "    return distances, predecessors\n",
    "\n",
    "# Example network\n",
    "network = {\n",
    "    'A': [('B', 3), ('C', 5)],\n",
    "    'B': [('C', 2), ('D', 6)],\n",
    "    'C': [('B', 1), ('D', 4), ('E', 6)],\n",
    "    'D': [('E', 2)],\n",
    "    'E': [('A', 3), ('D', 7)]\n",
    "}\n",
    "shortest_distances, path_predecessors = dijkstra(network, 'A')"
   ]
  },
  {
   "cell_type": "code",
   "execution_count": 19,
   "id": "8810b0f6",
   "metadata": {},
   "outputs": [
    {
     "data": {
      "text/plain": [
       "({'A': 0, 'B': 3, 'C': 5, 'D': 9, 'E': 11},\n",
       " {'A': None, 'B': 'A', 'C': 'A', 'D': 'B', 'E': 'C'})"
      ]
     },
     "execution_count": 19,
     "metadata": {},
     "output_type": "execute_result"
    }
   ],
   "source": [
    "shortest_distances, path_predecessors"
   ]
  },
  {
   "cell_type": "code",
   "execution_count": 20,
   "id": "39594fb3",
   "metadata": {},
   "outputs": [],
   "source": [
    "def format_paths(predecessors, start):\n",
    "    paths = {}\n",
    "    for node in predecessors:\n",
    "        if node == start:\n",
    "            paths[node] = start\n",
    "        else:\n",
    "            path = []\n",
    "            current = node\n",
    "            while current is not None:\n",
    "                path.insert(0, current)\n",
    "                current = predecessors[current]\n",
    "            paths[node] = \" -> \".join(path)\n",
    "    return paths\n",
    "\n",
    "formatted_paths = format_paths(path_predecessors, 'A')\n",
    "formatted_output = (\n",
    "    \"Shortest distances from source 'A':\\n\" +\n",
    "    \"\\n\".join([f\"{node}: {distance}\" for node, distance in shortest_distances.items()]) +\n",
    "    \"\\n\\nPaths from source 'A':\\n\" +\n",
    "    \"\\n\".join([f\"Path to {node}: {path}\" for node, path in formatted_paths.items()])\n",
    ")"
   ]
  },
  {
   "cell_type": "code",
   "execution_count": 21,
   "id": "4e9f7c31",
   "metadata": {},
   "outputs": [
    {
     "name": "stdout",
     "output_type": "stream",
     "text": [
      "Shortest distances from source 'A':\n",
      "A: 0\n",
      "B: 3\n",
      "C: 5\n",
      "D: 9\n",
      "E: 11\n",
      "\n",
      "Paths from source 'A':\n",
      "Path to A: A\n",
      "Path to B: A -> B\n",
      "Path to C: A -> C\n",
      "Path to D: A -> B -> D\n",
      "Path to E: A -> C -> E\n"
     ]
    }
   ],
   "source": [
    "print(formatted_output)"
   ]
  },
  {
   "cell_type": "markdown",
   "id": "50916be5",
   "metadata": {},
   "source": [
    "# Bellman-Ford Algorithm"
   ]
  },
  {
   "cell_type": "code",
   "execution_count": 22,
   "id": "e49c8f7c",
   "metadata": {},
   "outputs": [],
   "source": [
    "def bellman_ford(graph, start):\n",
    "    distances = {node: float('inf') for node in graph}\n",
    "    predecessors = {node: None for node in graph}\n",
    "    distances[start] = 0\n",
    "    for _ in range(len(graph) - 1):\n",
    "        for node in graph:\n",
    "            for neighbor, weight in graph[node]:\n",
    "                if distances[node] + weight < distances[neighbor]:\n",
    "                    distances[neighbor] = distances[node] + weight\n",
    "                    predecessors[neighbor] = node\n",
    "    for node in graph:\n",
    "        for neighbor, weight in graph[node]:\n",
    "            if distances[node] + weight < distances[neighbor]:\n",
    "                raise ValueError(\"Graph contains a negative-weight cycle\")\n",
    "\n",
    "    return distances, predecessors\n",
    "\n",
    "bf_shortest_distances, bf_path_predecessors = bellman_ford(network, 'A')\n",
    "\n",
    "bf_formatted_paths = format_paths(bf_path_predecessors, 'A')\n",
    "\n",
    "bf_formatted_output = (\n",
    "    \"Shortest distances from source 'A':\\n\" +\n",
    "    \"\\n\".join([f\"{node}: {distance}\" for node, distance in bf_shortest_distances.items()]) +\n",
    "    \"\\n\\nPaths from source 'A':\\n\" +\n",
    "    \"\\n\".join([f\"Path to {node}: {path}\" for node, path in bf_formatted_paths.items()])\n",
    ")\n",
    "\n"
   ]
  },
  {
   "cell_type": "code",
   "execution_count": 23,
   "id": "965b163d",
   "metadata": {},
   "outputs": [
    {
     "name": "stdout",
     "output_type": "stream",
     "text": [
      "Shortest distances from source 'A':\n",
      "A: 0\n",
      "B: 3\n",
      "C: 5\n",
      "D: 9\n",
      "E: 11\n",
      "\n",
      "Paths from source 'A':\n",
      "Path to A: A\n",
      "Path to B: A -> B\n",
      "Path to C: A -> C\n",
      "Path to D: A -> B -> D\n",
      "Path to E: A -> C -> E\n"
     ]
    }
   ],
   "source": [
    "print(bf_formatted_output)"
   ]
  },
  {
   "cell_type": "markdown",
   "id": "3689a67d",
   "metadata": {},
   "source": [
    "# Floyd-Warshall"
   ]
  },
  {
   "cell_type": "code",
   "execution_count": 24,
   "id": "fc7ed14e",
   "metadata": {},
   "outputs": [],
   "source": [
    "def floyd_warshall(graph):\n",
    "    nodes = list(graph.keys())\n",
    "    n = len(nodes)\n",
    "    distance = {node: {neighbor: float('inf') for neighbor in nodes} for node in nodes}\n",
    "    for node in nodes:\n",
    "        distance[node][node] = 0\n",
    "        for neighbor, weight in graph[node]:\n",
    "            distance[node][neighbor] = weight\n",
    "    for k in nodes:\n",
    "        for i in nodes:\n",
    "            for j in nodes:\n",
    "                distance[i][j] = min(distance[i][j], distance[i][k] + distance[k][j])\n",
    "    \n",
    "    return distance\n",
    "fw_distances = floyd_warshall(network)\n",
    "header = \"     \" + \"     \".join(fw_distances.keys())\n",
    "rows = [\n",
    "    f\"{i} \" + \" \".join(f\"{fw_distances[i][j]:>5}\" for j in fw_distances.keys())\n",
    "    for i in fw_distances.keys()\n",
    "]\n",
    "fw_formatted_output = \"Shortest Path Distance Matrix:\\n\" + header + \"\\n\" + \"\\n\".join(rows)\n"
   ]
  },
  {
   "cell_type": "code",
   "execution_count": 25,
   "id": "5985937f",
   "metadata": {},
   "outputs": [
    {
     "name": "stdout",
     "output_type": "stream",
     "text": [
      "Shortest Path Distance Matrix:\n",
      "     A     B     C     D     E\n",
      "A     0     3     5     9    11\n",
      "B    11     0     2     6     8\n",
      "C     9     1     0     4     6\n",
      "D     5     8    10     0     2\n",
      "E     3     6     8     7     0\n"
     ]
    }
   ],
   "source": [
    "print(fw_formatted_output)"
   ]
  },
  {
   "cell_type": "code",
   "execution_count": null,
   "id": "86d12072",
   "metadata": {},
   "outputs": [],
   "source": []
  }
 ],
 "metadata": {
  "kernelspec": {
   "display_name": "Python 3 (ipykernel)",
   "language": "python",
   "name": "python3"
  },
  "language_info": {
   "codemirror_mode": {
    "name": "ipython",
    "version": 3
   },
   "file_extension": ".py",
   "mimetype": "text/x-python",
   "name": "python",
   "nbconvert_exporter": "python",
   "pygments_lexer": "ipython3",
   "version": "3.11.4"
  }
 },
 "nbformat": 4,
 "nbformat_minor": 5
}
